{
  "nbformat": 4,
  "nbformat_minor": 0,
  "metadata": {
    "colab": {
      "provenance": []
    },
    "kernelspec": {
      "name": "python3",
      "display_name": "Python 3"
    },
    "language_info": {
      "name": "python"
    }
  },
  "cells": [
    {
      "cell_type": "code",
      "execution_count": 1,
      "metadata": {
        "colab": {
          "base_uri": "https://localhost:8080/"
        },
        "id": "43eO5FzubvIy",
        "outputId": "36ea297d-20cf-4fe5-f8d8-4bb3e9839ce5"
      },
      "outputs": [
        {
          "output_type": "stream",
          "name": "stdout",
          "text": [
            "Accuracy: 0.9157142857142857\n",
            "Classification Report:\n",
            "               precision    recall  f1-score   support\n",
            "\n",
            "           0       0.93      0.79      0.86       222\n",
            "           1       0.91      0.97      0.94       478\n",
            "\n",
            "    accuracy                           0.92       700\n",
            "   macro avg       0.92      0.88      0.90       700\n",
            "weighted avg       0.92      0.92      0.91       700\n",
            "\n",
            "     OBS_id  RESPONSE\n",
            "0       890         1\n",
            "1       140         1\n",
            "2       594         0\n",
            "3       772         0\n",
            "4       609         1\n",
            "..      ...       ...\n",
            "295     489         1\n",
            "296     972         1\n",
            "297     922         0\n",
            "298      19         0\n",
            "299     362         1\n",
            "\n",
            "[300 rows x 2 columns]\n"
          ]
        }
      ],
      "source": [
        "import pandas as pd\n",
        "from sklearn.ensemble import GradientBoostingClassifier\n",
        "from sklearn.metrics import accuracy_score, classification_report\n",
        "from sklearn.preprocessing import LabelEncoder\n",
        "\n",
        "# Reading data\n",
        "train_df = pd.read_csv('credit_training.csv')\n",
        "test_df = pd.read_csv('credit_testing.csv')\n",
        "\n",
        "# Feature Engineering and Preprocessing for 'Age_Group' in Training Data\n",
        "bins = [18, 30, 40, 50, 60, 100]\n",
        "labels = ['18-30', '30-40', '40-50', '50-60', '60+']\n",
        "train_df['Age_Group'] = pd.cut(train_df['AGE'], bins=bins, labels=labels)\n",
        "\n",
        "# Label Encoding 'Age_Group' in Training Data\n",
        "label_encoder = LabelEncoder()\n",
        "train_df['Age_Group'] = label_encoder.fit_transform(train_df['Age_Group'])\n",
        "\n",
        "# Feature Engineering and Preprocessing for 'Age_Group' in Test Data\n",
        "test_df['Age_Group'] = pd.cut(test_df['AGE'], bins=bins, labels=labels)\n",
        "\n",
        "# Label Encoding 'Age_Group' in Test Data using the same label encoder from training data\n",
        "test_df['Age_Group'] = label_encoder.transform(test_df['Age_Group'])\n",
        "\n",
        "# Model Training\n",
        "X_train = train_df.drop(columns=['RESPONSE'])\n",
        "y_train = train_df['RESPONSE']\n",
        "\n",
        "gb = GradientBoostingClassifier()\n",
        "gb.fit(X_train, y_train)\n",
        "\n",
        "# Preparing Test Data\n",
        "X_test = test_df.drop(columns=['OBS_ID'])  # Assuming 'OBS_ID' is the ID column in test data\n",
        "\n",
        "# Ensure test data has the same columns as the training data after preprocessing\n",
        "missing_cols = set(X_train.columns) - set(X_test.columns)\n",
        "for col in missing_cols:\n",
        "    X_test[col] = 0\n",
        "X_test = X_test[X_train.columns]\n",
        "\n",
        "# Predictions\n",
        "gb_preds = gb.predict(X_test)\n",
        "gb_preds_train = gb.predict(X_train)\n",
        "\n",
        "# Evaluating the model\n",
        "y_true = train_df['RESPONSE']  # Assuming 'RESPONSE' is the true label in the test data\n",
        "\n",
        "accuracy = accuracy_score(y_true, gb_preds_train)\n",
        "classification_report_result = classification_report(y_true, gb_preds_train)\n",
        "\n",
        "print(f\"Accuracy: {accuracy}\")\n",
        "print(\"Classification Report:\\n\", classification_report_result)\n",
        "\n",
        "# Output predictions to a CSV file\n",
        "predictions_df = pd.DataFrame({'OBS_id': test_df['OBS_ID'], 'RESPONSE': gb_preds})\n",
        "predictions_df.to_csv('sample_submission.csv', index=False)\n",
        "\n",
        "# Display predictions DataFrame\n",
        "print(predictions_df)"
      ]
    },
    {
      "cell_type": "code",
      "source": [],
      "metadata": {
        "id": "DqmL4B5Ab1th"
      },
      "execution_count": null,
      "outputs": []
    }
  ]
}