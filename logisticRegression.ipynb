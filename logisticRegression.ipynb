{
  "nbformat": 4,
  "nbformat_minor": 0,
  "metadata": {
    "colab": {
      "provenance": []
    },
    "kernelspec": {
      "name": "python3",
      "display_name": "Python 3"
    },
    "language_info": {
      "name": "python"
    }
  },
  "cells": [
    {
      "cell_type": "code",
      "source": [
        "import pandas as pd\n",
        "from sklearn.model_selection import train_test_split\n",
        "from sklearn.preprocessing import StandardScaler\n",
        "from sklearn.linear_model import LogisticRegression\n",
        "from sklearn.metrics import accuracy_score, classification_report\n",
        "\n",
        "train_data = pd.read_csv('credit_training.csv')\n",
        "\n",
        "print(train_data.head())\n",
        "print(train_data.info())\n",
        "\n",
        "features = train_data.drop(['OBS_ID', 'RESPONSE'], axis=1)\n",
        "target = train_data['RESPONSE']\n",
        "scaler = StandardScaler()\n",
        "features_scaled = scaler.fit_transform(features)\n",
        "\n",
        "X_train, X_val, y_train, y_val = train_test_split(features, target, test_size=0.1, random_state=42)\n",
        "\n",
        "model = LogisticRegression()\n",
        "model.fit(X_train, y_train)\n",
        "\n",
        "val_predictions = model.predict(X_val)\n",
        "\n",
        "accuracy = accuracy_score(y_val, val_predictions)\n",
        "print(f'Accuracy: {accuracy:.2f}')\n",
        "\n",
        "test_data = pd.read_csv('credit_testing.csv')\n",
        "\n",
        "test_features = test_data.drop(['OBS_ID'], axis=1)\n",
        "test_predictions = model.predict(test_features)\n",
        "\n",
        "submission = pd.DataFrame({'OBS_ID': test_data['OBS_ID'], 'RESPONSE': test_predictions})\n",
        "submission.to_csv('submission.csv', index=False)"
      ],
      "metadata": {
        "colab": {
          "base_uri": "https://localhost:8080/"
        },
        "id": "DqmL4B5Ab1th",
        "outputId": "57a1df1d-170b-4f52-c710-5601c35641e4"
      },
      "execution_count": 2,
      "outputs": [
        {
          "output_type": "stream",
          "name": "stdout",
          "text": [
            "   OBS_ID  CHK_ACCT  DURATION  HISTORY  NEW_CAR  USED_CAR  FURNITURE  \\\n",
            "0     860         3         9        2        1         0          0   \n",
            "1     704         1        30        3        0         0          0   \n",
            "2     791         1        21        2        0         0          0   \n",
            "3     385         3        30        3        0         0          0   \n",
            "4     406         1        24        2        0         0          0   \n",
            "\n",
            "   RADIO/TV  EDUCATION  RETRAINING  ...  AGE  OTHER_INSTALL  RENT  OWN_RES  \\\n",
            "0         0          0           0  ...   26              0     1        0   \n",
            "1         0          0           1  ...   41              1     0        1   \n",
            "2         0          0           1  ...   39              0     0        1   \n",
            "3         0          0           1  ...   26              0     0        1   \n",
            "4         1          0           0  ...   22              0     0        1   \n",
            "\n",
            "   NUM_CREDITS  JOB  NUM_DEPENDENTS  TELEPHONE  FOREIGN  RESPONSE  \n",
            "0            1    2               2          0        1         1  \n",
            "1            2    2               1          0        0         1  \n",
            "2            1    2               2          0        0         0  \n",
            "3            2    1               1          0        0         1  \n",
            "4            1    2               1          1        0         0  \n",
            "\n",
            "[5 rows x 32 columns]\n",
            "<class 'pandas.core.frame.DataFrame'>\n",
            "RangeIndex: 700 entries, 0 to 699\n",
            "Data columns (total 32 columns):\n",
            " #   Column            Non-Null Count  Dtype\n",
            "---  ------            --------------  -----\n",
            " 0   OBS_ID            700 non-null    int64\n",
            " 1   CHK_ACCT          700 non-null    int64\n",
            " 2   DURATION          700 non-null    int64\n",
            " 3   HISTORY           700 non-null    int64\n",
            " 4   NEW_CAR           700 non-null    int64\n",
            " 5   USED_CAR          700 non-null    int64\n",
            " 6   FURNITURE         700 non-null    int64\n",
            " 7   RADIO/TV          700 non-null    int64\n",
            " 8   EDUCATION         700 non-null    int64\n",
            " 9   RETRAINING        700 non-null    int64\n",
            " 10  AMOUNT            700 non-null    int64\n",
            " 11  SAV_ACCT          700 non-null    int64\n",
            " 12  EMPLOYMENT        700 non-null    int64\n",
            " 13  INSTALL_RATE      700 non-null    int64\n",
            " 14  MALE_DIV          700 non-null    int64\n",
            " 15  MALE_SINGLE       700 non-null    int64\n",
            " 16  MALE_MAR_or_WID   700 non-null    int64\n",
            " 17  CO-APPLICANT      700 non-null    int64\n",
            " 18  GUARANTOR         700 non-null    int64\n",
            " 19  PRESENT_RESIDENT  700 non-null    int64\n",
            " 20  REAL_ESTATE       700 non-null    int64\n",
            " 21  PROP_UNKN_NONE    700 non-null    int64\n",
            " 22  AGE               700 non-null    int64\n",
            " 23  OTHER_INSTALL     700 non-null    int64\n",
            " 24  RENT              700 non-null    int64\n",
            " 25  OWN_RES           700 non-null    int64\n",
            " 26  NUM_CREDITS       700 non-null    int64\n",
            " 27  JOB               700 non-null    int64\n",
            " 28  NUM_DEPENDENTS    700 non-null    int64\n",
            " 29  TELEPHONE         700 non-null    int64\n",
            " 30  FOREIGN           700 non-null    int64\n",
            " 31  RESPONSE          700 non-null    int64\n",
            "dtypes: int64(32)\n",
            "memory usage: 175.1 KB\n",
            "None\n",
            "Accuracy: 0.84\n"
          ]
        },
        {
          "output_type": "stream",
          "name": "stderr",
          "text": [
            "/usr/local/lib/python3.10/dist-packages/sklearn/linear_model/_logistic.py:460: ConvergenceWarning: lbfgs failed to converge (status=1):\n",
            "STOP: TOTAL NO. of ITERATIONS REACHED LIMIT.\n",
            "\n",
            "Increase the number of iterations (max_iter) or scale the data as shown in:\n",
            "    https://scikit-learn.org/stable/modules/preprocessing.html\n",
            "Please also refer to the documentation for alternative solver options:\n",
            "    https://scikit-learn.org/stable/modules/linear_model.html#logistic-regression\n",
            "  n_iter_i = _check_optimize_result(\n"
          ]
        }
      ]
    },
    {
      "cell_type": "code",
      "source": [],
      "metadata": {
        "id": "baOXE-FzcFHg"
      },
      "execution_count": null,
      "outputs": []
    }
  ]
}